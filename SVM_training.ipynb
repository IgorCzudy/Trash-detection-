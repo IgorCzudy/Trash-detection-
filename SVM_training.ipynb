{
 "cells": [
  {
   "cell_type": "code",
   "execution_count": 5,
   "metadata": {},
   "outputs": [
    {
     "name": "stdout",
     "output_type": "stream",
     "text": [
      "[[ 0.  0.  0. ...  0.  0.  0.]\n",
      " [ 0.  0.  0. ... 23. 16.  0.]\n",
      " [ 0.  0.  0. ...  0.  0.  0.]\n",
      " ...\n",
      " [ 0.  1.  3. ... 38. 36.  0.]\n",
      " [ 0.  0.  0. ... 78. 67.  0.]\n",
      " [ 0.  0.  0. ...  0.  0.  0.]]\n"
     ]
    }
   ],
   "source": [
    "import numpy as np\n",
    "\n",
    "data = np.loadtxt('data/feature_vectors.csv', delimiter=',')\n",
    "data = data[1:, :]\n",
    "print(data)"
   ]
  },
  {
   "cell_type": "code",
   "execution_count": 6,
   "metadata": {},
   "outputs": [],
   "source": [
    "X = data[:, :-1]\n",
    "Y = data[:, -1]"
   ]
  },
  {
   "cell_type": "code",
   "execution_count": 7,
   "metadata": {},
   "outputs": [
    {
     "name": "stdout",
     "output_type": "stream",
     "text": [
      "value=0.0: count=297\n",
      "value=1.0: count=11\n"
     ]
    }
   ],
   "source": [
    "unique_values, counts = np.unique(Y, return_counts=True)\n",
    "\n",
    "for value, count in zip(unique_values, counts):\n",
    "    print(f\"{value=}: {count=}\")\n"
   ]
  },
  {
   "cell_type": "code",
   "execution_count": 8,
   "metadata": {},
   "outputs": [
    {
     "name": "stdout",
     "output_type": "stream",
     "text": [
      "Trainig dataset - positive: 9, negative: 237\n",
      "Test dataset - positive: 2, negative: 60\n"
     ]
    }
   ],
   "source": [
    "from sklearn.model_selection import train_test_split\n",
    "\n",
    "X_train, X_test, Y_train, Y_test = train_test_split(X, Y, test_size=0.2, stratify=Y, random_state=42)\n",
    "\n",
    "train_positives = np.sum(Y_train == 1)\n",
    "test_positives = np.sum(Y_test == 1)\n",
    "train_negatives = np.sum(Y_train == 0)\n",
    "test_negatives = np.sum(Y_test == 0)\n",
    "print(f\"Trainig dataset - positive: {train_positives}, negative: {train_negatives}\")\n",
    "print(f\"Test dataset - positive: {test_positives}, negative: {test_negatives}\")\n"
   ]
  },
  {
   "cell_type": "code",
   "execution_count": 10,
   "metadata": {},
   "outputs": [
    {
     "name": "stdout",
     "output_type": "stream",
     "text": [
      "accuracy_score for test: 0.967741935483871\n",
      "precision for test: 0.0\n",
      "recall for test: 0.0\n",
      "F1-score for test: 0.0\n"
     ]
    },
    {
     "name": "stderr",
     "output_type": "stream",
     "text": [
      "/home/igor/.conda/envs/ml/lib/python3.11/site-packages/sklearn/metrics/_classification.py:1471: UndefinedMetricWarning: Precision is ill-defined and being set to 0.0 due to no predicted samples. Use `zero_division` parameter to control this behavior.\n",
      "  _warn_prf(average, modifier, msg_start, len(result))\n"
     ]
    }
   ],
   "source": [
    "from sklearn.svm import SVC\n",
    "from sklearn.metrics import accuracy_score\n",
    "from sklearn.metrics import precision_score, recall_score, f1_score\n",
    "\n",
    "svm_classifier = SVC(kernel='rbf', random_state=42)\n",
    "\n",
    "svm_classifier.fit(X_train, Y_train)\n",
    "\n",
    "Y_pred = svm_classifier.predict(X_test)\n",
    "\n",
    "accuracy = accuracy_score(Y_test, Y_pred)\n",
    "precision = precision_score(Y_test, Y_pred)\n",
    "recall = recall_score(Y_test, Y_pred)\n",
    "f1 = f1_score(Y_test, Y_pred)\n",
    "\n",
    "print(\"accuracy_score for test:\", accuracy)\n",
    "print(\"precision for test:\", precision)\n",
    "print(\"recall for test:\", recall)\n",
    "print(\"F1-score for test:\", f1)\n"
   ]
  },
  {
   "cell_type": "code",
   "execution_count": 12,
   "metadata": {},
   "outputs": [
    {
     "name": "stdout",
     "output_type": "stream",
     "text": [
      "accuracy_score for train: 0.975609756097561\n",
      "precision for train: 1.0\n",
      "recall for train: 0.3333333333333333\n",
      "F1-score for train: 0.5\n"
     ]
    }
   ],
   "source": [
    "\n",
    "Y_train_pred = svm_classifier.predict(X_train)\n",
    "\n",
    "# Oblicz miary dla zbioru treningowego\n",
    "train_accuracy = accuracy_score(Y_train, Y_train_pred)\n",
    "train_precision = precision_score(Y_train, Y_train_pred)\n",
    "train_recall = recall_score(Y_train, Y_train_pred)\n",
    "train_f1 = f1_score(Y_train, Y_train_pred)\n",
    "\n",
    "print(\"accuracy_score for train:\", train_accuracy)\n",
    "print(\"precision for train:\", train_precision)\n",
    "print(\"recall for train:\", train_recall)\n",
    "print(\"F1-score for train:\", train_f1)\n"
   ]
  },
  {
   "cell_type": "markdown",
   "metadata": {},
   "source": [
    "### With scaler"
   ]
  },
  {
   "cell_type": "code",
   "execution_count": 13,
   "metadata": {},
   "outputs": [
    {
     "name": "stdout",
     "output_type": "stream",
     "text": [
      "For test set:\n",
      "accuracy_score: 0.967741935483871\n",
      "precision: 0.0\n",
      "recall: 0.0\n",
      "F1-score: 0.0\n",
      "\\For training set:\n",
      "accuracy_score: 0.9796747967479674\n",
      "precision: 1.0\n",
      "recall: 0.4444444444444444\n",
      "F1-score: 0.6153846153846153\n"
     ]
    },
    {
     "name": "stderr",
     "output_type": "stream",
     "text": [
      "/home/igor/.conda/envs/ml/lib/python3.11/site-packages/sklearn/metrics/_classification.py:1471: UndefinedMetricWarning: Precision is ill-defined and being set to 0.0 due to no predicted samples. Use `zero_division` parameter to control this behavior.\n",
      "  _warn_prf(average, modifier, msg_start, len(result))\n"
     ]
    }
   ],
   "source": [
    "from sklearn.preprocessing import StandardScaler\n",
    "\n",
    "scaler = StandardScaler()\n",
    "X_train_scaled = scaler.fit_transform(X_train)\n",
    "X_test_scaled = scaler.transform(X_test)\n",
    "\n",
    "svm_classifier = SVC(kernel='rbf', random_state=42)\n",
    "\n",
    "svm_classifier.fit(X_train_scaled, Y_train)\n",
    "\n",
    "Y_pred = svm_classifier.predict(X_test_scaled)\n",
    "\n",
    "accuracy = accuracy_score(Y_test, Y_pred)\n",
    "precision = precision_score(Y_test, Y_pred)\n",
    "recall = recall_score(Y_test, Y_pred)\n",
    "f1 = f1_score(Y_test, Y_pred)\n",
    "\n",
    "print(\"For test set:\")\n",
    "print(\"accuracy_score:\", accuracy)\n",
    "print(\"precision:\", precision)\n",
    "print(\"recall:\", recall)\n",
    "print(\"F1-score:\", f1)\n",
    "\n",
    "\n",
    "Y_train_pred = svm_classifier.predict(X_train_scaled)\n",
    "train_accuracy = accuracy_score(Y_train, Y_train_pred)\n",
    "train_precision = precision_score(Y_train, Y_train_pred)\n",
    "train_recall = recall_score(Y_train, Y_train_pred)\n",
    "train_f1 = f1_score(Y_train, Y_train_pred)\n",
    "\n",
    "print(\"\\For training set:\")\n",
    "print(\"accuracy_score:\", train_accuracy)\n",
    "print(\"precision:\", train_precision)\n",
    "print(\"recall:\", train_recall)\n",
    "print(\"F1-score:\", train_f1)\n"
   ]
  },
  {
   "cell_type": "code",
   "execution_count": null,
   "metadata": {},
   "outputs": [],
   "source": []
  }
 ],
 "metadata": {
  "kernelspec": {
   "display_name": "ml",
   "language": "python",
   "name": "python3"
  },
  "language_info": {
   "codemirror_mode": {
    "name": "ipython",
    "version": 3
   },
   "file_extension": ".py",
   "mimetype": "text/x-python",
   "name": "python",
   "nbconvert_exporter": "python",
   "pygments_lexer": "ipython3",
   "version": "3.11.2"
  }
 },
 "nbformat": 4,
 "nbformat_minor": 2
}
